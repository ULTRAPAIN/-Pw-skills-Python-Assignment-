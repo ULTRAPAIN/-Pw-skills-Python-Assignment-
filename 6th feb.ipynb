{
 "cells": [
  {
   "cell_type": "markdown",
   "id": "1a34ea41-0a8a-452e-880f-77165f0c1453",
   "metadata": {},
   "source": [
    "Q1. Create a function which will take a list as an argument and return the product of all the numbers\n",
    "after creating a flat list.\n",
    "Use the below-given list as an argument for your function.\n",
    "list1 = [1,2,3,4, [44,55,66, True], False, (34,56,78,89,34), {1,2,3,3,2,1}, {1:34, \"key2\": [55, 67, 78, 89], 4: (45,\n",
    "22, 61, 34)}, [56, 'data science'], 'Machine Learning']\n",
    "Note: you must extract numeric keys and values of the dictionary also."
   ]
  },
  {
   "cell_type": "markdown",
   "id": "9a44d9ff-1545-45d5-b013-408bddc803fa",
   "metadata": {},
   "source": [
    "list1 = [1,2,3,4, [44,55,66, True], False, (34,56,78,89,34), {1,2,3,3,2,1}, {1:34, \"key2\": [55, 67, 78, 89], 4: (45,\n",
    "22, 61, 34)}, [56, 'data science'], 'Machine Learning']"
   ]
  },
  {
   "cell_type": "code",
   "execution_count": 35,
   "id": "90b7b756-46e8-4040-86ac-ea24f38a6c64",
   "metadata": {},
   "outputs": [],
   "source": [
    "def product1(list1):\n",
    "    def seperation(list1):\n",
    "        for item in list1:\n",
    "            if type(item)==list or type(item)==tuple or type(item)==set:\n",
    "                yield from seperation(item)\n",
    "            elif type(item)==dict:\n",
    "                yield from seperation(item.values())\n",
    "            else:\n",
    "                yield item\n",
    "                \n",
    "        flatlist=list(seperation(list1))\n",
    "        product=1\n",
    "        for num in ( x for x in flatlist if isinstance(x,(int,float))):\n",
    "            product*=num\n",
    "        return product"
   ]
  },
  {
   "cell_type": "code",
   "execution_count": 38,
   "id": "dac8b9c5-0e76-4e8e-9d83-56ad37183a48",
   "metadata": {},
   "outputs": [],
   "source": [
    "list1 = [1,2,3,4, [44,55,66, True], False, (34,56,78,89,34), {1,2,3,3,2,1}, {1:34, \"key2\": [55, 67, 78, 89], 4: (45,22, 61, 34)}, [56, 'data science'], 'Machine Learning']\n",
    "a=product1(list1)"
   ]
  },
  {
   "cell_type": "code",
   "execution_count": 39,
   "id": "4684d448-81bd-44d5-bcff-e4738394b0f9",
   "metadata": {},
   "outputs": [
    {
     "name": "stdout",
     "output_type": "stream",
     "text": [
      "None\n"
     ]
    }
   ],
   "source": [
    "print(a)"
   ]
  },
  {
   "cell_type": "markdown",
   "id": "f28d4f5b-ca45-4fe4-9604-6c9f1234a767",
   "metadata": {},
   "source": [
    "Q2. Write a python program for encrypting a message sent to you by your friend. The logic of encryption\n",
    "should be such that, for a the output should be z. For b, the output should be y. For c, the output should\n",
    "be x respectively. Also, the whitespace should be replaced with a dollar sign. Keep the punctuation\n",
    "marks unchanged.\n",
    "Input Sentence: I want to become a Data Scientist.\n",
    "Encrypt the above input sentence using the program you just created.\n",
    "Note: Convert the given input"
   ]
  },
  {
   "cell_type": "code",
   "execution_count": 40,
   "id": "2577867e-044b-4be6-b29c-9cd24b66ac29",
   "metadata": {},
   "outputs": [
    {
     "name": "stdin",
     "output_type": "stream",
     "text": [
      "Enter your senetence I want to become a Data Scientist.\n"
     ]
    }
   ],
   "source": [
    "a=input(\"Enter your senetence\")\n",
    "l=[]\n",
    "for i in a:\n",
    "    l.append(i)\n",
    "        \n"
   ]
  },
  {
   "cell_type": "code",
   "execution_count": 46,
   "id": "78fa2a29-3523-4dbd-afde-9e6e2ca20b08",
   "metadata": {},
   "outputs": [],
   "source": [
    "for i in range(len(l)):\n",
    "    if l[i]==\"a\":\n",
    "        l[i]=\"z\"\n",
    "    elif l[i]==\"b\":\n",
    "        l[i]=\"y\"\n",
    "    elif l[i]==\"c\":\n",
    "        l[i]=\"x\"\n",
    "    elif l[i]==\" \":\n",
    "        l[i]=\"$\"\n",
    "    else:\n",
    "        continue"
   ]
  },
  {
   "cell_type": "code",
   "execution_count": 54,
   "id": "75de607c-96b1-4fb1-9262-1f59881e309e",
   "metadata": {},
   "outputs": [],
   "source": [
    "string=\"\"\n",
    "for i in l:\n",
    "    string=string+str(i)"
   ]
  },
  {
   "cell_type": "code",
   "execution_count": 55,
   "id": "f1286041-ca4c-4634-9cd9-163991b9f41a",
   "metadata": {},
   "outputs": [
    {
     "data": {
      "text/plain": [
       "'I$wznt$to$yexome$z$Dztz$Sxientist.'"
      ]
     },
     "execution_count": 55,
     "metadata": {},
     "output_type": "execute_result"
    }
   ],
   "source": [
    "string"
   ]
  },
  {
   "cell_type": "code",
   "execution_count": null,
   "id": "0023d8e9-3c26-4aa2-a6a0-9dd675891c2b",
   "metadata": {},
   "outputs": [],
   "source": [
    "string"
   ]
  }
 ],
 "metadata": {
  "kernelspec": {
   "display_name": "Python 3 (ipykernel)",
   "language": "python",
   "name": "python3"
  },
  "language_info": {
   "codemirror_mode": {
    "name": "ipython",
    "version": 3
   },
   "file_extension": ".py",
   "mimetype": "text/x-python",
   "name": "python",
   "nbconvert_exporter": "python",
   "pygments_lexer": "ipython3",
   "version": "3.10.8"
  }
 },
 "nbformat": 4,
 "nbformat_minor": 5
}
